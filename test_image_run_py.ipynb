{
  "nbformat": 4,
  "nbformat_minor": 0,
  "metadata": {
    "colab": {
      "provenance": []
    },
    "kernelspec": {
      "name": "python3",
      "display_name": "Python 3"
    },
    "language_info": {
      "name": "python"
    }
  },
  "cells": [
    {
      "cell_type": "code",
      "source": [
        "from google.colab import drive\n",
        "drive.mount('/content/drive')\n"
      ],
      "metadata": {
        "colab": {
          "base_uri": "https://localhost:8080/"
        },
        "id": "0_CqTcY8Q_jj",
        "outputId": "1f18414c-96e6-47cd-edb1-4dce90eecf42"
      },
      "execution_count": 2,
      "outputs": [
        {
          "output_type": "stream",
          "name": "stdout",
          "text": [
            "Mounted at /content/drive\n"
          ]
        }
      ]
    },
    {
      "cell_type": "code",
      "execution_count": 6,
      "metadata": {
        "colab": {
          "base_uri": "https://localhost:8080/"
        },
        "id": "hiKb9taFPNmk",
        "outputId": "94754be9-42fc-44b8-e006-7ba8fc5c42b5"
      },
      "outputs": [
        {
          "output_type": "stream",
          "name": "stdout",
          "text": [
            "📊 Shape da imagem após pré-processamento: (1, 128, 128, 1)\n",
            "✅ Modelo carregado com sucesso.\n",
            "\u001b[1m1/1\u001b[0m \u001b[32m━━━━━━━━━━━━━━━━━━━━\u001b[0m\u001b[37m\u001b[0m \u001b[1m0s\u001b[0m 153ms/step\n",
            "\n",
            "📈 Predição (valor bruto): [[0.968341]]\n",
            "🔴 Resultado: Enfisema detectado (Classe 1)\n"
          ]
        }
      ],
      "source": [
        "import os\n",
        "import numpy as np\n",
        "import tensorflow as tf\n",
        "import cv2\n",
        "\n",
        "# Configurações\n",
        "IMG_SIZE = 128\n",
        "\n",
        "def preprocess_image(image_array):\n",
        "    \"\"\"Pré-processa a imagem para entrada no modelo.\"\"\"\n",
        "    if len(image_array.shape) == 3 and image_array.shape[2] == 3:\n",
        "        image_array = cv2.cvtColor(image_array, cv2.COLOR_BGR2GRAY)\n",
        "    image_array = image_array.astype(np.uint8)\n",
        "    image_array = cv2.equalizeHist(image_array)\n",
        "    image_array = cv2.GaussianBlur(image_array, (5, 5), 0)\n",
        "    image_array = image_array.astype(np.float32) / 255.0\n",
        "    image_array = cv2.resize(image_array, (IMG_SIZE, IMG_SIZE))\n",
        "    image_array = np.expand_dims(image_array, axis=-1)\n",
        "    image_array = np.expand_dims(image_array, axis=0)\n",
        "\n",
        "    return image_array\n",
        "\n",
        "def image_predict(model_path, preprocessed_image_array):\n",
        "    \"\"\"Carrega o modelo salvo e realiza predição na imagem pré-processada.\"\"\"\n",
        "    modelo = tf.keras.models.load_model(model_path)\n",
        "    print(\"✅ Modelo carregado com sucesso.\")\n",
        "    predicao = modelo.predict(preprocessed_image_array)\n",
        "    return predicao\n",
        "\n",
        "def main():\n",
        "    # 🔽 AJUSTE OS CAMINHOS AQUI:\n",
        "    path_imagem_teste = '/content/drive/MyDrive/teste_imagem/teste-raioxenf.jpg'   # Exemplo: 'testes/raiox.png'\n",
        "    path_modelo = '/content/drive/MyDrive/modelo_enfisema.keras'         # Exemplo: 'modelos/enfisema_model.keras'\n",
        "\n",
        "    # Verificar existência dos arquivos\n",
        "    if not os.path.exists(path_imagem_teste):\n",
        "        print(f\"❌ Erro: Imagem de teste não encontrada em '{path_imagem_teste}'\")\n",
        "        return\n",
        "\n",
        "    if not os.path.exists(path_modelo):\n",
        "        print(f\"❌ Erro: Modelo não encontrado em '{path_modelo}'\")\n",
        "        return\n",
        "\n",
        "    # Carregar imagem\n",
        "    imagem_original = cv2.imread(path_imagem_teste, cv2.IMREAD_GRAYSCALE)\n",
        "    if imagem_original is None:\n",
        "        print(f\"❌ Erro ao carregar a imagem: {path_imagem_teste}\")\n",
        "        return\n",
        "\n",
        "    # Pré-processar imagem\n",
        "    imagem_preprocessada = preprocess_image(imagem_original)\n",
        "    print(f\"📊 Shape da imagem após pré-processamento: {imagem_preprocessada.shape}\")\n",
        "\n",
        "    # Fazer predição\n",
        "    predicao_imagem = image_predict(path_modelo, imagem_preprocessada)\n",
        "    if predicao_imagem is not None:\n",
        "        print(\"\\n📈 Predição (valor bruto):\", predicao_imagem)\n",
        "        if predicao_imagem[0][0] >= 0.5:\n",
        "            print(\"🔴 Resultado: Enfisema detectado (Classe 1)\")\n",
        "        else:\n",
        "            print(\"🟢 Resultado: Normal (sem Enfisema) (Classe 0)\")\n",
        "\n",
        "if __name__ == '__main__':\n",
        "    main()\n"
      ]
    }
  ]
}